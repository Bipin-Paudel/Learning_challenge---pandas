{
 "cells": [
  {
   "cell_type": "markdown",
   "id": "8fbfc417",
   "metadata": {},
   "source": [
    "# Merge and Concat "
   ]
  },
  {
   "cell_type": "markdown",
   "id": "b08e3436",
   "metadata": {},
   "source": []
  },
  {
   "cell_type": "code",
   "execution_count": 2,
   "id": "4ac345a8",
   "metadata": {},
   "outputs": [],
   "source": [
    "import pandas as pd"
   ]
  },
  {
   "cell_type": "code",
   "execution_count": 5,
   "id": "05d0eed8",
   "metadata": {},
   "outputs": [
    {
     "name": "stdout",
     "output_type": "stream",
     "text": [
      "   a   b   c\n",
      "0  1   6  26\n",
      "1  2   7  27\n",
      "2  3   8  28\n",
      "3  4   9  29\n",
      "4  5  10  30\n"
     ]
    }
   ],
   "source": [
    "var1 = pd.DataFrame({\"a\":[1,2,3,4,5],\"b\":[6,7,8,9,10]})\n",
    "var2 = pd.DataFrame({\"a\":[1,2,3,4,5],\"c\":[26,27,28,29,30]})\n",
    "\n",
    "print(pd.merge(var1,var2, on='a'))"
   ]
  },
  {
   "cell_type": "code",
   "execution_count": null,
   "id": "f39a77e7",
   "metadata": {},
   "outputs": [
    {
     "name": "stdout",
     "output_type": "stream",
     "text": [
      "   a   b     c\n",
      "0  1   6  26.0\n",
      "1  2   7  27.0\n",
      "2  3   8  28.0\n",
      "3  4   9  29.0\n",
      "4  5  10   NaN\n"
     ]
    }
   ],
   "source": [
    "var1 = pd.DataFrame({\"a\":[1,2,3,4,5],\"b\":[6,7,8,9,10]})\n",
    "var2 = pd.DataFrame({\"a\":[1,2,3,4,9],\"c\":[26,27,28,29,30]})\n",
    "\n",
    "print(pd.merge(var1,var2, how='left'))  # by default how='inner' "
   ]
  },
  {
   "cell_type": "code",
   "execution_count": 10,
   "id": "96d6fee9",
   "metadata": {},
   "outputs": [
    {
     "name": "stdout",
     "output_type": "stream",
     "text": [
      "   a_x   b  a_y   c\n",
      "0    1   6    1  26\n",
      "1    2   7    2  27\n",
      "2    3   8    3  28\n",
      "3    4   9    4  29\n",
      "4    5  10    9  30\n"
     ]
    }
   ],
   "source": [
    "print(pd.merge(var1,var2, left_index=True, right_index=True))"
   ]
  },
  {
   "cell_type": "code",
   "execution_count": null,
   "id": "92172640",
   "metadata": {},
   "outputs": [],
   "source": []
  }
 ],
 "metadata": {
  "kernelspec": {
   "display_name": "base",
   "language": "python",
   "name": "python3"
  },
  "language_info": {
   "codemirror_mode": {
    "name": "ipython",
    "version": 3
   },
   "file_extension": ".py",
   "mimetype": "text/x-python",
   "name": "python",
   "nbconvert_exporter": "python",
   "pygments_lexer": "ipython3",
   "version": "3.12.7"
  }
 },
 "nbformat": 4,
 "nbformat_minor": 5
}
