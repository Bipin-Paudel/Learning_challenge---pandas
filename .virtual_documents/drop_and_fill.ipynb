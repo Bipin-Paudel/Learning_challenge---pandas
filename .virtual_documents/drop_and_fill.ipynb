


import pandas as pd


var_1 = pd.read_csv("C:\\Users\\Vipin\\pandas_challenge\\customers-100.csv")
var_1


var_1[1,"City"] ="NaN"
var_1[2,"City"] ="NaN"
var_1


var_1.dropna() # to delete all the blanks(NaN)


var_1.dropna(axis=1) # to delete all the blanks(NaN) # delete columnwise


var_1.dropna(subset=["Index"]) 


var_1.dropna(thresh=2) # remove 2 non value rows


var_1.fillna("python")


var_1.fillna({"Index": "py", "City":"Bharatpur" })


var_1.fillna(method="bfill")


var_1.fillna(method="ffill")


var_1.fillna(12,inplace=True)
var_1


var_1.fillna("python", limit=1)
var_1



