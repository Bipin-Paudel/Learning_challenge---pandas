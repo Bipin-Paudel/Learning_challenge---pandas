


import pandas as pd


var1 = pd.DataFrame({"A":[1,2,3,4],"B":[11,12,13,14]})
var2 = pd.DataFrame({"C":[10,20,30,40],"D":[11,22,33,44]})

var1.join(var2)


var1 = pd.DataFrame({"A":[1,2,3,4],"B":[11,12,13,14]}, index=["a","b","c","d"])
var2 = pd.DataFrame({"C":[10,20,30,40],"D":[11,22,33,44]})

var1.join(var2)


var1 = pd.DataFrame({"A":[1,2,3,4],"B":[11,12,13,14]}, index=["a","b","c","d"])
var2 = pd.DataFrame({"C":[10,20],"D":[11,22]},index=["a","b"])

var2.join(var1)


var1 = pd.DataFrame({"A":[1,2,3,4],"B":[11,12,13,14]}, index=["a","b","c","d"])
var2 = pd.DataFrame({"C":[10,20],"D":[11,22]},index=["a","b"])

var2.join(var1, how='left')


var1 = pd.DataFrame({"A":[1,2,3,4],"B":[11,12,13,14]}, index=["a","b","c","d"])
var2 = pd.DataFrame({"C":[10,20],"D":[11,22]},index=["a","b"])

var2.join(var1, how='right')


var1 = pd.DataFrame({"A":[1,2,3,4],"B":[11,12,13,14]}, index=["a","b","c","d"])
var2 = pd.DataFrame({"C":[10,20],"D":[11,22]},index=["a","b"])

var2.join(var1, how='inner') # it shows intersection data only


var1 = pd.DataFrame({"A":[1,2,3,4],"B":[11,12,13,14]}, index=["a","b","c","d"])
var2 = pd.DataFrame({"C":[10,20],"B":[11,22]},index=["a","b"])

var2.join(var1, how='outer', lsuffix='12', rsuffix='21')





var1 = pd.DataFrame({"A":[1,2,3,4],"B":[11,12,13,14]}, index=["a","b","c","d"])
var2 = pd.DataFrame({"C":[10,20],"B":[11,22]},index=["a","b"])

var1.append(var2)



