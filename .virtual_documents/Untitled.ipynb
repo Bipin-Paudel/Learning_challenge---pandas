


import pandas as pd


var_1 = pd.read_csv("C:\\Users\\Vipin\\pandas_challenge\\customers-100.csv")
var_1


var_1[1,"City"] ="NaN"
var_1[2,"City"] ="NaN"
var_1


var_1.dropna() # to delete all the blanks(NaN)


var_1.dropna(axis=1) # to delete all the blanks(NaN) # delete columnwise



