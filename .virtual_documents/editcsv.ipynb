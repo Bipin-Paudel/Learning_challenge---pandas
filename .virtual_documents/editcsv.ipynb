import pandas as pd


var_1 = pd.read_csv("C:\\Users\\Vipin\pandas_challenge\\customers-100.csv")
var_1


var_1.describe()


var_1.head()


var_1.tail(3)


var_1.index.array


var_1.to_numpy()


import numpy as np
np.asarray(var_1)


var_1.sort_index(axis=0, ascending= False)


var_1[1, "City"] = "Bipin "


var_1


var_1.loc[0,"Country"] = "Nepal"


var_1


var_1.loc[[2,3],["Phone 1", "Phone 2"]]


var_1.loc[[2,3],:]


var_1.drop('Country', axis=1)


var_1.drop('Country', axis=1)
