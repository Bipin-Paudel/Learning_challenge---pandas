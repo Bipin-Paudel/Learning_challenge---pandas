{
 "cells": [
  {
   "cell_type": "code",
   "execution_count": 1,
   "id": "cf9f21f6",
   "metadata": {},
   "outputs": [],
   "source": [
    "import pandas as pd"
   ]
  },
  {
   "cell_type": "markdown",
   "id": "163b5137",
   "metadata": {},
   "source": [
    "# series data structures"
   ]
  },
  {
   "cell_type": "code",
   "execution_count": 2,
   "id": "f71269c3",
   "metadata": {},
   "outputs": [
    {
     "name": "stdout",
     "output_type": "stream",
     "text": [
      "0    3\n",
      "1    4\n",
      "2    5\n",
      "3    6\n",
      "4    7\n",
      "5    8\n",
      "dtype: int64\n",
      "<class 'pandas.core.series.Series'>\n",
      "a    3\n",
      "s    4\n",
      "d    5\n",
      "f    6\n",
      "dtype: int64\n",
      "a    3.0\n",
      "s    4.0\n",
      "d    5.0\n",
      "f    6.0\n",
      "dtype: float64\n",
      "a    3.0\n",
      "s    4.0\n",
      "d    5.0\n",
      "f    6.0\n",
      "Name: python, dtype: float64\n"
     ]
    }
   ],
   "source": [
    "\n",
    "\n",
    "x= [3,4,5,6,7,8]\n",
    "var = pd.Series(x)\n",
    "print(var)\n",
    "\n",
    "print(type(var))\n",
    "\n",
    "y = [3,4,5,6]\n",
    "\n",
    "var2 = pd.Series(y, index =['a','s','d','f'])\n",
    "print(var2)\n",
    "\n",
    "var2 = pd.Series(y, index =['a','s','d','f'], dtype='float')\n",
    "print(var2)\n",
    "\n",
    "var2 = pd.Series(y, index =['a','s','d','f'], dtype='float', name='python')\n",
    "print(var2)"
   ]
  },
  {
   "cell_type": "code",
   "execution_count": 6,
   "id": "8a0e0b66",
   "metadata": {},
   "outputs": [
    {
     "name": "stdout",
     "output_type": "stream",
     "text": [
      "name    [python, c, c++, java]\n",
      "por           [12, 13, 14, 15]\n",
      "rank              [1, 4, 3, 2]\n",
      "dtype: object\n"
     ]
    }
   ],
   "source": [
    "import pandas as pd\n",
    "dic = { \"name\": ['python', 'c','c++', 'java'],\n",
    "        \"por\": [12,13,14,15],\n",
    "        \"rank\": [1,4,3,2]}\n",
    "\n",
    "var5 = pd.Series(dic)\n",
    "print(var5)\n"
   ]
  }
 ],
 "metadata": {
  "kernelspec": {
   "display_name": "myenv",
   "language": "python",
   "name": "python3"
  },
  "language_info": {
   "codemirror_mode": {
    "name": "ipython",
    "version": 3
   },
   "file_extension": ".py",
   "mimetype": "text/x-python",
   "name": "python",
   "nbconvert_exporter": "python",
   "pygments_lexer": "ipython3",
   "version": "3.13.3"
  }
 },
 "nbformat": 4,
 "nbformat_minor": 5
}
